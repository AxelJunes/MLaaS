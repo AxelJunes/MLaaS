{
 "cells": [
  {
   "cell_type": "code",
   "execution_count": 1,
   "metadata": {
    "collapsed": true,
    "deletable": true,
    "editable": true
   },
   "outputs": [],
   "source": [
    "%matplotlib inline\n",
    "import pandas as pd\n",
    "import numpy as np\n",
    "import matplotlib.pyplot as plt\n",
    "import sklearn\n",
    "from sklearn import linear_model"
   ]
  },
  {
   "cell_type": "code",
   "execution_count": 2,
   "metadata": {
    "collapsed": false,
    "deletable": true,
    "editable": true
   },
   "outputs": [],
   "source": [
    "df = pd.read_csv('export.csv', sep=';', names = [\"v1\", \"v2\", \"time\"])"
   ]
  },
  {
   "cell_type": "code",
   "execution_count": 3,
   "metadata": {
    "collapsed": false,
    "deletable": true,
    "editable": true,
    "scrolled": true
   },
   "outputs": [
    {
     "data": {
      "text/html": [
       "<div>\n",
       "<table border=\"1\" class=\"dataframe\">\n",
       "  <thead>\n",
       "    <tr style=\"text-align: right;\">\n",
       "      <th></th>\n",
       "      <th>v1</th>\n",
       "      <th>v2</th>\n",
       "      <th>time</th>\n",
       "    </tr>\n",
       "  </thead>\n",
       "  <tbody>\n",
       "    <tr>\n",
       "      <th>0</th>\n",
       "      <td>41</td>\n",
       "      <td>15</td>\n",
       "      <td>3.153032</td>\n",
       "    </tr>\n",
       "    <tr>\n",
       "      <th>1</th>\n",
       "      <td>26</td>\n",
       "      <td>71</td>\n",
       "      <td>2.721669</td>\n",
       "    </tr>\n",
       "    <tr>\n",
       "      <th>2</th>\n",
       "      <td>74</td>\n",
       "      <td>3</td>\n",
       "      <td>2.037394</td>\n",
       "    </tr>\n",
       "    <tr>\n",
       "      <th>3</th>\n",
       "      <td>86</td>\n",
       "      <td>25</td>\n",
       "      <td>6.839226</td>\n",
       "    </tr>\n",
       "    <tr>\n",
       "      <th>4</th>\n",
       "      <td>9</td>\n",
       "      <td>42</td>\n",
       "      <td>2.720037</td>\n",
       "    </tr>\n",
       "    <tr>\n",
       "      <th>5</th>\n",
       "      <td>59</td>\n",
       "      <td>95</td>\n",
       "      <td>6.650016</td>\n",
       "    </tr>\n",
       "    <tr>\n",
       "      <th>6</th>\n",
       "      <td>93</td>\n",
       "      <td>78</td>\n",
       "      <td>5.213439</td>\n",
       "    </tr>\n",
       "    <tr>\n",
       "      <th>7</th>\n",
       "      <td>92</td>\n",
       "      <td>34</td>\n",
       "      <td>3.340598</td>\n",
       "    </tr>\n",
       "    <tr>\n",
       "      <th>8</th>\n",
       "      <td>91</td>\n",
       "      <td>73</td>\n",
       "      <td>3.011150</td>\n",
       "    </tr>\n",
       "    <tr>\n",
       "      <th>9</th>\n",
       "      <td>95</td>\n",
       "      <td>32</td>\n",
       "      <td>3.652129</td>\n",
       "    </tr>\n",
       "  </tbody>\n",
       "</table>\n",
       "</div>"
      ],
      "text/plain": [
       "   v1  v2      time\n",
       "0  41  15  3.153032\n",
       "1  26  71  2.721669\n",
       "2  74   3  2.037394\n",
       "3  86  25  6.839226\n",
       "4   9  42  2.720037\n",
       "5  59  95  6.650016\n",
       "6  93  78  5.213439\n",
       "7  92  34  3.340598\n",
       "8  91  73  3.011150\n",
       "9  95  32  3.652129"
      ]
     },
     "execution_count": 3,
     "metadata": {},
     "output_type": "execute_result"
    }
   ],
   "source": [
    "df.head(10)"
   ]
  },
  {
   "cell_type": "code",
   "execution_count": 4,
   "metadata": {
    "collapsed": false,
    "deletable": true,
    "editable": true
   },
   "outputs": [],
   "source": [
    "for index, row in df.iterrows():\n",
    "    if(row[\"v1\"]<10 and row[\"v2\"]<10): #Both have 1 digit\n",
    "        df.loc[index, \"complexity\"] = 0\n",
    "    elif(row[\"v1\"]==0 or row[\"v2\"]==0): #One of the values is 0\n",
    "        df.loc[index, \"complexity\"] = 1\n",
    "    elif(row[\"v1\"]%10==0 and row[\"v2\"]%10==0): #Both can be divided by 10\n",
    "        df.loc[index, \"complexity\"] = 2\n",
    "    elif(row[\"v1\"]<10 or row[\"v2\"]<10): #One of the values has 1 digit\n",
    "        df.loc[index, \"complexity\"] = 3\n",
    "    elif((row[\"v1\"] + row[\"v2\"])%10==0): #Sum divided by 10 is 0\n",
    "        df.loc[index, \"complexity\"] = 4\n",
    "    elif(row[\"v1\"]%2==0 and row[\"v2\"]%2==0): #Both are even\n",
    "        df.loc[index, \"complexity\"] = 5\n",
    "    elif(row[\"v1\"]%2==0 and row[\"v2\"]%2==1): #One of them is even\n",
    "        df.loc[index, \"complexity\"] = 6\n",
    "    elif(row[\"v1\"]%2==1 and row[\"v2\"]%2==0): #One of them is even\n",
    "        df.loc[index, \"complexity\"] = 6\n",
    "    elif(row[\"v1\"]%2==1 and row[\"v2\"]%2==1): #Both are odd\n",
    "        df.loc[index, \"complexity\"] = 7"
   ]
  },
  {
   "cell_type": "code",
   "execution_count": 5,
   "metadata": {
    "collapsed": false,
    "deletable": true,
    "editable": true
   },
   "outputs": [],
   "source": [
    "df['complexity'] = df['complexity'].astype(int)"
   ]
  },
  {
   "cell_type": "code",
   "execution_count": 6,
   "metadata": {
    "collapsed": false,
    "deletable": true,
    "editable": true
   },
   "outputs": [
    {
     "data": {
      "text/html": [
       "<div>\n",
       "<table border=\"1\" class=\"dataframe\">\n",
       "  <thead>\n",
       "    <tr style=\"text-align: right;\">\n",
       "      <th></th>\n",
       "      <th>v1</th>\n",
       "      <th>v2</th>\n",
       "      <th>time</th>\n",
       "      <th>complexity</th>\n",
       "    </tr>\n",
       "  </thead>\n",
       "  <tbody>\n",
       "    <tr>\n",
       "      <th>0</th>\n",
       "      <td>41</td>\n",
       "      <td>15</td>\n",
       "      <td>3.153032</td>\n",
       "      <td>7</td>\n",
       "    </tr>\n",
       "    <tr>\n",
       "      <th>1</th>\n",
       "      <td>26</td>\n",
       "      <td>71</td>\n",
       "      <td>2.721669</td>\n",
       "      <td>6</td>\n",
       "    </tr>\n",
       "    <tr>\n",
       "      <th>2</th>\n",
       "      <td>74</td>\n",
       "      <td>3</td>\n",
       "      <td>2.037394</td>\n",
       "      <td>3</td>\n",
       "    </tr>\n",
       "    <tr>\n",
       "      <th>3</th>\n",
       "      <td>86</td>\n",
       "      <td>25</td>\n",
       "      <td>6.839226</td>\n",
       "      <td>6</td>\n",
       "    </tr>\n",
       "    <tr>\n",
       "      <th>4</th>\n",
       "      <td>9</td>\n",
       "      <td>42</td>\n",
       "      <td>2.720037</td>\n",
       "      <td>3</td>\n",
       "    </tr>\n",
       "    <tr>\n",
       "      <th>5</th>\n",
       "      <td>59</td>\n",
       "      <td>95</td>\n",
       "      <td>6.650016</td>\n",
       "      <td>7</td>\n",
       "    </tr>\n",
       "    <tr>\n",
       "      <th>6</th>\n",
       "      <td>93</td>\n",
       "      <td>78</td>\n",
       "      <td>5.213439</td>\n",
       "      <td>6</td>\n",
       "    </tr>\n",
       "    <tr>\n",
       "      <th>7</th>\n",
       "      <td>92</td>\n",
       "      <td>34</td>\n",
       "      <td>3.340598</td>\n",
       "      <td>5</td>\n",
       "    </tr>\n",
       "    <tr>\n",
       "      <th>8</th>\n",
       "      <td>91</td>\n",
       "      <td>73</td>\n",
       "      <td>3.011150</td>\n",
       "      <td>7</td>\n",
       "    </tr>\n",
       "    <tr>\n",
       "      <th>9</th>\n",
       "      <td>95</td>\n",
       "      <td>32</td>\n",
       "      <td>3.652129</td>\n",
       "      <td>6</td>\n",
       "    </tr>\n",
       "    <tr>\n",
       "      <th>10</th>\n",
       "      <td>6</td>\n",
       "      <td>2</td>\n",
       "      <td>2.103544</td>\n",
       "      <td>0</td>\n",
       "    </tr>\n",
       "    <tr>\n",
       "      <th>11</th>\n",
       "      <td>6</td>\n",
       "      <td>61</td>\n",
       "      <td>1.990544</td>\n",
       "      <td>3</td>\n",
       "    </tr>\n",
       "    <tr>\n",
       "      <th>12</th>\n",
       "      <td>71</td>\n",
       "      <td>18</td>\n",
       "      <td>9.000823</td>\n",
       "      <td>6</td>\n",
       "    </tr>\n",
       "    <tr>\n",
       "      <th>13</th>\n",
       "      <td>58</td>\n",
       "      <td>11</td>\n",
       "      <td>2.496154</td>\n",
       "      <td>6</td>\n",
       "    </tr>\n",
       "    <tr>\n",
       "      <th>14</th>\n",
       "      <td>56</td>\n",
       "      <td>57</td>\n",
       "      <td>3.407964</td>\n",
       "      <td>6</td>\n",
       "    </tr>\n",
       "    <tr>\n",
       "      <th>15</th>\n",
       "      <td>42</td>\n",
       "      <td>49</td>\n",
       "      <td>6.129740</td>\n",
       "      <td>6</td>\n",
       "    </tr>\n",
       "    <tr>\n",
       "      <th>16</th>\n",
       "      <td>32</td>\n",
       "      <td>68</td>\n",
       "      <td>2.863535</td>\n",
       "      <td>4</td>\n",
       "    </tr>\n",
       "    <tr>\n",
       "      <th>17</th>\n",
       "      <td>10</td>\n",
       "      <td>61</td>\n",
       "      <td>2.326456</td>\n",
       "      <td>6</td>\n",
       "    </tr>\n",
       "    <tr>\n",
       "      <th>18</th>\n",
       "      <td>30</td>\n",
       "      <td>28</td>\n",
       "      <td>3.813054</td>\n",
       "      <td>5</td>\n",
       "    </tr>\n",
       "    <tr>\n",
       "      <th>19</th>\n",
       "      <td>82</td>\n",
       "      <td>61</td>\n",
       "      <td>10.666446</td>\n",
       "      <td>6</td>\n",
       "    </tr>\n",
       "  </tbody>\n",
       "</table>\n",
       "</div>"
      ],
      "text/plain": [
       "    v1  v2       time  complexity\n",
       "0   41  15   3.153032           7\n",
       "1   26  71   2.721669           6\n",
       "2   74   3   2.037394           3\n",
       "3   86  25   6.839226           6\n",
       "4    9  42   2.720037           3\n",
       "5   59  95   6.650016           7\n",
       "6   93  78   5.213439           6\n",
       "7   92  34   3.340598           5\n",
       "8   91  73   3.011150           7\n",
       "9   95  32   3.652129           6\n",
       "10   6   2   2.103544           0\n",
       "11   6  61   1.990544           3\n",
       "12  71  18   9.000823           6\n",
       "13  58  11   2.496154           6\n",
       "14  56  57   3.407964           6\n",
       "15  42  49   6.129740           6\n",
       "16  32  68   2.863535           4\n",
       "17  10  61   2.326456           6\n",
       "18  30  28   3.813054           5\n",
       "19  82  61  10.666446           6"
      ]
     },
     "execution_count": 6,
     "metadata": {},
     "output_type": "execute_result"
    }
   ],
   "source": [
    "df.head(20)"
   ]
  },
  {
   "cell_type": "code",
   "execution_count": 7,
   "metadata": {
    "collapsed": false,
    "deletable": true,
    "editable": true
   },
   "outputs": [
    {
     "data": {
      "text/plain": [
       "<matplotlib.axes._subplots.AxesSubplot at 0x7f6aa4415650>"
      ]
     },
     "execution_count": 7,
     "metadata": {},
     "output_type": "execute_result"
    },
    {
     "data": {
      "image/png": "[encoded data removed]",
      "text/plain": [
       "<matplotlib.figure.Figure at 0x7f6a70e38350>"
      ]
     },
     "metadata": {},
     "output_type": "display_data"
    }
   ],
   "source": [
    "df.plot(x=\"complexity\", y=\"time\", kind=\"scatter\")"
   ]
  },
  {
   "cell_type": "code",
   "execution_count": 8,
   "metadata": {
    "collapsed": false,
    "deletable": true,
    "editable": true
   },
   "outputs": [
    {
     "data": {
      "text/plain": [
       "<matplotlib.axes._subplots.AxesSubplot at 0x7f6a6da55510>"
      ]
     },
     "execution_count": 8,
     "metadata": {},
     "output_type": "execute_result"
    },
    {
     "data": {
      "image/png": "[encoded data removed]",
      "text/plain": [
       "<matplotlib.figure.Figure at 0x7f6a6df2bc90>"
      ]
     },
     "metadata": {},
     "output_type": "display_data"
    }
   ],
   "source": [
    "#Paint regression line\n",
    "import seaborn as sns\n",
    "sns.set(color_codes=True)\n",
    "sns.regplot(x=\"complexity\", y=\"time\", data=df)"
   ]
  },
  {
   "cell_type": "code",
   "execution_count": 9,
   "metadata": {
    "collapsed": false,
    "deletable": true,
    "editable": true
   },
   "outputs": [],
   "source": [
    "X = df[\"complexity\"]\n",
    "y = df[\"time\"]\n",
    "#Create test data\n",
    "X_test = X[0:len(df)/2].values.reshape(-1,1)\n",
    "y_test = y[0:len(df)/2]\n",
    "#Create train data\n",
    "X_train = X[len(df)/2:].values.reshape(-1,1)\n",
    "y_train = y[len(df)/2:]"
   ]
  },
  {
   "cell_type": "code",
   "execution_count": 10,
   "metadata": {
    "collapsed": true,
    "deletable": true,
    "editable": true
   },
   "outputs": [],
   "source": [
    "ols = linear_model.LinearRegression()"
   ]
  },
  {
   "cell_type": "code",
   "execution_count": 11,
   "metadata": {
    "collapsed": true,
    "deletable": true,
    "editable": true
   },
   "outputs": [],
   "source": [
    "model = ols.fit(X_train, y_train)"
   ]
  },
  {
   "cell_type": "code",
   "execution_count": 12,
   "metadata": {
    "collapsed": false,
    "deletable": true,
    "editable": true
   },
   "outputs": [
    {
     "data": {
      "text/plain": [
       "array([ 0.05951523])"
      ]
     },
     "execution_count": 12,
     "metadata": {},
     "output_type": "execute_result"
    }
   ],
   "source": [
    "model.coef_"
   ]
  },
  {
   "cell_type": "code",
   "execution_count": 13,
   "metadata": {
    "collapsed": false,
    "deletable": true,
    "editable": true
   },
   "outputs": [
    {
     "data": {
      "text/plain": [
       "-0.0013544362727431203"
      ]
     },
     "execution_count": 13,
     "metadata": {},
     "output_type": "execute_result"
    }
   ],
   "source": [
    "model.score(X_test, y_test)"
   ]
  },
  {
   "cell_type": "code",
   "execution_count": 14,
   "metadata": {
    "collapsed": false,
    "deletable": true,
    "editable": true
   },
   "outputs": [
    {
     "data": {
      "text/plain": [
       "[3.5792511087265306,\n",
       " 3.5197358772975615,\n",
       " 3.3411901830106552,\n",
       " 3.5197358772975615,\n",
       " 3.3411901830106552,\n",
       " 3.5792511087265306,\n",
       " 3.5197358772975615,\n",
       " 3.4602206458685929,\n",
       " 3.5792511087265306,\n",
       " 3.5197358772975615,\n",
       " 3.1626444887237488,\n",
       " 3.3411901830106552,\n",
       " 3.5197358772975615,\n",
       " 3.5197358772975615,\n",
       " 3.5197358772975615,\n",
       " 3.5197358772975615,\n",
       " 3.4007054144396243,\n",
       " 3.5197358772975615,\n",
       " 3.4602206458685929,\n",
       " 3.5197358772975615,\n",
       " 3.4602206458685929,\n",
       " 3.3411901830106552,\n",
       " 3.2221597201527175,\n",
       " 3.5197358772975615,\n",
       " 3.4602206458685929,\n",
       " 3.5197358772975615,\n",
       " 3.5197358772975615,\n",
       " 3.5197358772975615,\n",
       " 3.5197358772975615,\n",
       " 3.5197358772975615,\n",
       " 3.5792511087265306,\n",
       " 3.4602206458685929,\n",
       " 3.5197358772975615,\n",
       " 3.4602206458685929,\n",
       " 3.5197358772975615,\n",
       " 3.5197358772975615,\n",
       " 3.5197358772975615]"
      ]
     },
     "execution_count": 14,
     "metadata": {},
     "output_type": "execute_result"
    }
   ],
   "source": [
    "list(model.predict(X_test))"
   ]
  },
  {
   "cell_type": "code",
   "execution_count": 15,
   "metadata": {
    "collapsed": false,
    "deletable": true,
    "editable": true
   },
   "outputs": [],
   "source": [
    "import cPickle\n",
    "#Save classifier\n",
    "with open(\"classifier.pkl\", \"wb\") as fid:\n",
    "    cPickle.dump(model, fid)"
   ]
  },
  {
   "cell_type": "code",
   "execution_count": 16,
   "metadata": {
    "collapsed": true,
    "deletable": true,
    "editable": true
   },
   "outputs": [],
   "source": [
    "with open(\"classifier.pkl\", \"rb\") as fid:\n",
    "    regr_loaded = cPickle.load(fid)"
   ]
  },
  {
   "cell_type": "code",
   "execution_count": null,
   "metadata": {
    "collapsed": true,
    "deletable": true,
    "editable": true
   },
   "outputs": [],
   "source": []
  }
 ],
 "metadata": {
  "kernelspec": {
   "display_name": "Python 2",
   "language": "python",
   "name": "python2"
  },
  "language_info": {
   "codemirror_mode": {
    "name": "ipython",
    "version": 2
   },
   "file_extension": ".py",
   "mimetype": "text/x-python",
   "name": "python",
   "nbconvert_exporter": "python",
   "pygments_lexer": "ipython2",
   "version": "2.7.12"
  }
 },
 "nbformat": 4,
 "nbformat_minor": 2
}
