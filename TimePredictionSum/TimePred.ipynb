{
 "cells": [
  {
   "cell_type": "code",
   "execution_count": 1,
   "metadata": {
    "collapsed": true,
    "deletable": true,
    "editable": true
   },
   "outputs": [],
   "source": [
    "%matplotlib inline\n",
    "import pandas as pd\n",
    "import numpy as np\n",
    "import matplotlib.pyplot as plt\n",
    "import sklearn\n",
    "from sklearn import linear_model"
   ]
  },
  {
   "cell_type": "code",
   "execution_count": 2,
   "metadata": {
    "collapsed": false,
    "deletable": true,
    "editable": true
   },
   "outputs": [],
   "source": [
    "df = pd.read_csv('export.csv', sep=';', names = [\"v1\", \"v2\", \"time\"])"
   ]
  },
  {
   "cell_type": "code",
   "execution_count": 3,
   "metadata": {
    "collapsed": false,
    "deletable": true,
    "editable": true,
    "scrolled": true
   },
   "outputs": [
    {
     "data": {
      "text/html": [
       "<div>\n",
       "<table border=\"1\" class=\"dataframe\">\n",
       "  <thead>\n",
       "    <tr style=\"text-align: right;\">\n",
       "      <th></th>\n",
       "      <th>v1</th>\n",
       "      <th>v2</th>\n",
       "      <th>time</th>\n",
       "    </tr>\n",
       "  </thead>\n",
       "  <tbody>\n",
       "    <tr>\n",
       "      <th>0</th>\n",
       "      <td>95</td>\n",
       "      <td>35</td>\n",
       "      <td>5.543350</td>\n",
       "    </tr>\n",
       "    <tr>\n",
       "      <th>1</th>\n",
       "      <td>42</td>\n",
       "      <td>99</td>\n",
       "      <td>7.212388</td>\n",
       "    </tr>\n",
       "    <tr>\n",
       "      <th>2</th>\n",
       "      <td>32</td>\n",
       "      <td>12</td>\n",
       "      <td>3.062813</td>\n",
       "    </tr>\n",
       "    <tr>\n",
       "      <th>3</th>\n",
       "      <td>34</td>\n",
       "      <td>35</td>\n",
       "      <td>3.239781</td>\n",
       "    </tr>\n",
       "    <tr>\n",
       "      <th>4</th>\n",
       "      <td>52</td>\n",
       "      <td>65</td>\n",
       "      <td>4.985076</td>\n",
       "    </tr>\n",
       "    <tr>\n",
       "      <th>5</th>\n",
       "      <td>68</td>\n",
       "      <td>65</td>\n",
       "      <td>4.355802</td>\n",
       "    </tr>\n",
       "    <tr>\n",
       "      <th>6</th>\n",
       "      <td>97</td>\n",
       "      <td>84</td>\n",
       "      <td>10.635804</td>\n",
       "    </tr>\n",
       "    <tr>\n",
       "      <th>7</th>\n",
       "      <td>32</td>\n",
       "      <td>56</td>\n",
       "      <td>3.309602</td>\n",
       "    </tr>\n",
       "    <tr>\n",
       "      <th>8</th>\n",
       "      <td>16</td>\n",
       "      <td>37</td>\n",
       "      <td>17.303474</td>\n",
       "    </tr>\n",
       "    <tr>\n",
       "      <th>9</th>\n",
       "      <td>5</td>\n",
       "      <td>92</td>\n",
       "      <td>2.937968</td>\n",
       "    </tr>\n",
       "  </tbody>\n",
       "</table>\n",
       "</div>"
      ],
      "text/plain": [
       "   v1  v2       time\n",
       "0  95  35   5.543350\n",
       "1  42  99   7.212388\n",
       "2  32  12   3.062813\n",
       "3  34  35   3.239781\n",
       "4  52  65   4.985076\n",
       "5  68  65   4.355802\n",
       "6  97  84  10.635804\n",
       "7  32  56   3.309602\n",
       "8  16  37  17.303474\n",
       "9   5  92   2.937968"
      ]
     },
     "execution_count": 3,
     "metadata": {},
     "output_type": "execute_result"
    }
   ],
   "source": [
    "df.head(10)"
   ]
  },
  {
   "cell_type": "code",
   "execution_count": 7,
   "metadata": {
    "collapsed": false,
    "deletable": true,
    "editable": true
   },
   "outputs": [],
   "source": [
    "for index, row in df.iterrows():\n",
    "    if(row[\"v1\"]<10 and row[\"v2\"]<10): #Both have 1 digit\n",
    "        df.loc[index, \"complexity\"] = 0\n",
    "    elif(row[\"v1\"]==0 or row[\"v2\"]==0): #One of the values is 0\n",
    "        df.loc[index, \"complexity\"] = 1\n",
    "    elif(row[\"v1\"]%10==0 and row[\"v2\"]%10==0): #Both can be divided by 10\n",
    "        df.loc[index, \"complexity\"] = 2\n",
    "    elif(row[\"v1\"]<10 or row[\"v2\"]<10): #One of the values has 1 digit\n",
    "        df.loc[index, \"complexity\"] = 3\n",
    "    elif((row[\"v1\"] + row[\"v2\"])%10==0): #Sum divided by 10 is 0\n",
    "        df.loc[index, \"complexity\"] = 4\n",
    "    elif(row[\"v1\"]%2==0 and row[\"v2\"]%2==0): #Both are even\n",
    "        df.loc[index, \"complexity\"] = 5\n",
    "    elif(row[\"v1\"]%2==0 and row[\"v2\"]%2==1): #One of them is even\n",
    "        df.loc[index, \"complexity\"] = 6\n",
    "    elif(row[\"v1\"]%2==1 and row[\"v2\"]%2==0): #One of them is even\n",
    "        df.loc[index, \"complexity\"] = 6\n",
    "    elif(row[\"v1\"]%2==1 and row[\"v2\"]%2==1): #Both are odd\n",
    "        df.loc[index, \"complexity\"] = 7"
   ]
  },
  {
   "cell_type": "code",
   "execution_count": 8,
   "metadata": {
    "collapsed": false,
    "deletable": true,
    "editable": true
   },
   "outputs": [],
   "source": [
    "df['complexity'] = df['complexity'].astype(int)"
   ]
  },
  {
   "cell_type": "code",
   "execution_count": 9,
   "metadata": {
    "collapsed": false,
    "deletable": true,
    "editable": true
   },
   "outputs": [
    {
     "data": {
      "text/html": [
       "<div>\n",
       "<table border=\"1\" class=\"dataframe\">\n",
       "  <thead>\n",
       "    <tr style=\"text-align: right;\">\n",
       "      <th></th>\n",
       "      <th>v1</th>\n",
       "      <th>v2</th>\n",
       "      <th>time</th>\n",
       "      <th>complexity</th>\n",
       "    </tr>\n",
       "  </thead>\n",
       "  <tbody>\n",
       "    <tr>\n",
       "      <th>0</th>\n",
       "      <td>95</td>\n",
       "      <td>35</td>\n",
       "      <td>5.543350</td>\n",
       "      <td>4</td>\n",
       "    </tr>\n",
       "    <tr>\n",
       "      <th>1</th>\n",
       "      <td>42</td>\n",
       "      <td>99</td>\n",
       "      <td>7.212388</td>\n",
       "      <td>6</td>\n",
       "    </tr>\n",
       "    <tr>\n",
       "      <th>2</th>\n",
       "      <td>32</td>\n",
       "      <td>12</td>\n",
       "      <td>3.062813</td>\n",
       "      <td>5</td>\n",
       "    </tr>\n",
       "    <tr>\n",
       "      <th>3</th>\n",
       "      <td>34</td>\n",
       "      <td>35</td>\n",
       "      <td>3.239781</td>\n",
       "      <td>6</td>\n",
       "    </tr>\n",
       "    <tr>\n",
       "      <th>4</th>\n",
       "      <td>52</td>\n",
       "      <td>65</td>\n",
       "      <td>4.985076</td>\n",
       "      <td>6</td>\n",
       "    </tr>\n",
       "    <tr>\n",
       "      <th>5</th>\n",
       "      <td>68</td>\n",
       "      <td>65</td>\n",
       "      <td>4.355802</td>\n",
       "      <td>6</td>\n",
       "    </tr>\n",
       "    <tr>\n",
       "      <th>6</th>\n",
       "      <td>97</td>\n",
       "      <td>84</td>\n",
       "      <td>10.635804</td>\n",
       "      <td>6</td>\n",
       "    </tr>\n",
       "    <tr>\n",
       "      <th>7</th>\n",
       "      <td>32</td>\n",
       "      <td>56</td>\n",
       "      <td>3.309602</td>\n",
       "      <td>5</td>\n",
       "    </tr>\n",
       "    <tr>\n",
       "      <th>8</th>\n",
       "      <td>16</td>\n",
       "      <td>37</td>\n",
       "      <td>17.303474</td>\n",
       "      <td>6</td>\n",
       "    </tr>\n",
       "    <tr>\n",
       "      <th>9</th>\n",
       "      <td>5</td>\n",
       "      <td>92</td>\n",
       "      <td>2.937968</td>\n",
       "      <td>3</td>\n",
       "    </tr>\n",
       "    <tr>\n",
       "      <th>10</th>\n",
       "      <td>62</td>\n",
       "      <td>30</td>\n",
       "      <td>2.243160</td>\n",
       "      <td>5</td>\n",
       "    </tr>\n",
       "    <tr>\n",
       "      <th>11</th>\n",
       "      <td>33</td>\n",
       "      <td>35</td>\n",
       "      <td>2.825348</td>\n",
       "      <td>7</td>\n",
       "    </tr>\n",
       "    <tr>\n",
       "      <th>12</th>\n",
       "      <td>97</td>\n",
       "      <td>12</td>\n",
       "      <td>8.354181</td>\n",
       "      <td>6</td>\n",
       "    </tr>\n",
       "    <tr>\n",
       "      <th>13</th>\n",
       "      <td>85</td>\n",
       "      <td>0</td>\n",
       "      <td>1.995116</td>\n",
       "      <td>1</td>\n",
       "    </tr>\n",
       "    <tr>\n",
       "      <th>14</th>\n",
       "      <td>36</td>\n",
       "      <td>56</td>\n",
       "      <td>2.590218</td>\n",
       "      <td>5</td>\n",
       "    </tr>\n",
       "    <tr>\n",
       "      <th>15</th>\n",
       "      <td>26</td>\n",
       "      <td>72</td>\n",
       "      <td>2.905187</td>\n",
       "      <td>5</td>\n",
       "    </tr>\n",
       "    <tr>\n",
       "      <th>16</th>\n",
       "      <td>40</td>\n",
       "      <td>33</td>\n",
       "      <td>2.806530</td>\n",
       "      <td>6</td>\n",
       "    </tr>\n",
       "    <tr>\n",
       "      <th>17</th>\n",
       "      <td>46</td>\n",
       "      <td>66</td>\n",
       "      <td>3.018984</td>\n",
       "      <td>5</td>\n",
       "    </tr>\n",
       "    <tr>\n",
       "      <th>18</th>\n",
       "      <td>12</td>\n",
       "      <td>100</td>\n",
       "      <td>1.724479</td>\n",
       "      <td>5</td>\n",
       "    </tr>\n",
       "    <tr>\n",
       "      <th>19</th>\n",
       "      <td>65</td>\n",
       "      <td>35</td>\n",
       "      <td>3.389033</td>\n",
       "      <td>4</td>\n",
       "    </tr>\n",
       "  </tbody>\n",
       "</table>\n",
       "</div>"
      ],
      "text/plain": [
       "    v1   v2       time  complexity\n",
       "0   95   35   5.543350           4\n",
       "1   42   99   7.212388           6\n",
       "2   32   12   3.062813           5\n",
       "3   34   35   3.239781           6\n",
       "4   52   65   4.985076           6\n",
       "5   68   65   4.355802           6\n",
       "6   97   84  10.635804           6\n",
       "7   32   56   3.309602           5\n",
       "8   16   37  17.303474           6\n",
       "9    5   92   2.937968           3\n",
       "10  62   30   2.243160           5\n",
       "11  33   35   2.825348           7\n",
       "12  97   12   8.354181           6\n",
       "13  85    0   1.995116           1\n",
       "14  36   56   2.590218           5\n",
       "15  26   72   2.905187           5\n",
       "16  40   33   2.806530           6\n",
       "17  46   66   3.018984           5\n",
       "18  12  100   1.724479           5\n",
       "19  65   35   3.389033           4"
      ]
     },
     "execution_count": 9,
     "metadata": {},
     "output_type": "execute_result"
    }
   ],
   "source": [
    "df.head(20)"
   ]
  },
  {
   "cell_type": "code",
   "execution_count": 10,
   "metadata": {
    "collapsed": false,
    "deletable": true,
    "editable": true
   },
   "outputs": [
    {
     "data": {
      "text/plain": [
       "<matplotlib.axes._subplots.AxesSubplot at 0x7fc037518250>"
      ]
     },
     "execution_count": 10,
     "metadata": {},
     "output_type": "execute_result"
    },
    {
     "data": {
      "image/png": "[encoded data removed]",
      "text/plain": [
       "<matplotlib.figure.Figure at 0x7fc068536250>"
      ]
     },
     "metadata": {},
     "output_type": "display_data"
    }
   ],
   "source": [
    "df.plot(x=\"complexity\", y=\"time\", kind=\"scatter\")"
   ]
  },
  {
   "cell_type": "code",
   "execution_count": 11,
   "metadata": {
    "collapsed": false,
    "deletable": true,
    "editable": true
   },
   "outputs": [
    {
     "data": {
      "text/plain": [
       "<matplotlib.axes._subplots.AxesSubplot at 0x7fc035323a50>"
      ]
     },
     "execution_count": 11,
     "metadata": {},
     "output_type": "execute_result"
    },
    {
     "data": {
      "image/png": "[encoded data removed]",
      "text/plain": [
       "<matplotlib.figure.Figure at 0x7fc035323210>"
      ]
     },
     "metadata": {},
     "output_type": "display_data"
    }
   ],
   "source": [
    "#Paint regression line\n",
    "import seaborn as sns\n",
    "sns.set(color_codes=True)\n",
    "sns.regplot(x=\"complexity\", y=\"time\", data=df)"
   ]
  },
  {
   "cell_type": "code",
   "execution_count": 12,
   "metadata": {
    "collapsed": false,
    "deletable": true,
    "editable": true
   },
   "outputs": [],
   "source": [
    "X = df[\"complexity\"]\n",
    "y = df[\"time\"]\n",
    "#Create test data\n",
    "X_test = X[0:len(df)/2].values.reshape(-1,1)\n",
    "y_test = y[0:len(df)/2]\n",
    "#Create train data\n",
    "X_train = X[len(df)/2:].values.reshape(-1,1)\n",
    "y_train = y[len(df)/2:]"
   ]
  },
  {
   "cell_type": "code",
   "execution_count": 13,
   "metadata": {
    "collapsed": true,
    "deletable": true,
    "editable": true
   },
   "outputs": [],
   "source": [
    "ols = linear_model.LinearRegression()"
   ]
  },
  {
   "cell_type": "code",
   "execution_count": 14,
   "metadata": {
    "collapsed": true,
    "deletable": true,
    "editable": true
   },
   "outputs": [],
   "source": [
    "model = ols.fit(X_train, y_train)"
   ]
  },
  {
   "cell_type": "code",
   "execution_count": 15,
   "metadata": {
    "collapsed": false,
    "deletable": true,
    "editable": true
   },
   "outputs": [
    {
     "data": {
      "text/plain": [
       "array([ 0.45854648])"
      ]
     },
     "execution_count": 15,
     "metadata": {},
     "output_type": "execute_result"
    }
   ],
   "source": [
    "model.coef_"
   ]
  },
  {
   "cell_type": "code",
   "execution_count": 16,
   "metadata": {
    "collapsed": false,
    "deletable": true,
    "editable": true
   },
   "outputs": [
    {
     "data": {
      "text/plain": [
       "0.068571367090081159"
      ]
     },
     "execution_count": 16,
     "metadata": {},
     "output_type": "execute_result"
    }
   ],
   "source": [
    "model.score(X_test, y_test)"
   ]
  },
  {
   "cell_type": "code",
   "execution_count": 17,
   "metadata": {
    "collapsed": false,
    "deletable": true,
    "editable": true
   },
   "outputs": [
    {
     "data": {
      "text/plain": [
       "[3.2184829842759335,\n",
       " 4.1355759437347395,\n",
       " 3.6770294640053365,\n",
       " 4.1355759437347395,\n",
       " 4.1355759437347395,\n",
       " 4.1355759437347395,\n",
       " 4.1355759437347395,\n",
       " 3.6770294640053365,\n",
       " 4.1355759437347395,\n",
       " 2.7599365045465301,\n",
       " 3.6770294640053365,\n",
       " 4.5941224234641425,\n",
       " 4.1355759437347395,\n",
       " 1.8428435450877234,\n",
       " 3.6770294640053365,\n",
       " 3.6770294640053365,\n",
       " 4.1355759437347395,\n",
       " 3.6770294640053365,\n",
       " 3.6770294640053365,\n",
       " 3.2184829842759335,\n",
       " 4.5941224234641425,\n",
       " 2.7599365045465301,\n",
       " 3.6770294640053365,\n",
       " 4.1355759437347395,\n",
       " 4.1355759437347395,\n",
       " 3.2184829842759335,\n",
       " 4.1355759437347395,\n",
       " 4.5941224234641425,\n",
       " 3.6770294640053365,\n",
       " 3.6770294640053365,\n",
       " 3.6770294640053365,\n",
       " 4.1355759437347395,\n",
       " 3.6770294640053365,\n",
       " 4.5941224234641425,\n",
       " 2.7599365045465301,\n",
       " 4.1355759437347395,\n",
       " 3.2184829842759335,\n",
       " 3.2184829842759335,\n",
       " 4.5941224234641425,\n",
       " 3.6770294640053365,\n",
       " 3.6770294640053365,\n",
       " 4.1355759437347395,\n",
       " 3.6770294640053365,\n",
       " 4.5941224234641425,\n",
       " 3.2184829842759335,\n",
       " 4.5941224234641425,\n",
       " 4.5941224234641425,\n",
       " 4.1355759437347395,\n",
       " 3.6770294640053365,\n",
       " 2.7599365045465301,\n",
       " 4.1355759437347395,\n",
       " 2.7599365045465301,\n",
       " 2.7599365045465301,\n",
       " 2.7599365045465301,\n",
       " 4.1355759437347395,\n",
       " 4.5941224234641425,\n",
       " 4.5941224234641425,\n",
       " 4.1355759437347395,\n",
       " 3.6770294640053365,\n",
       " 1.8428435450877234,\n",
       " 4.1355759437347395,\n",
       " 2.7599365045465301,\n",
       " 3.6770294640053365,\n",
       " 4.1355759437347395,\n",
       " 4.1355759437347395,\n",
       " 3.2184829842759335,\n",
       " 3.6770294640053365,\n",
       " 4.5941224234641425,\n",
       " 3.2184829842759335,\n",
       " 3.6770294640053365,\n",
       " 4.1355759437347395,\n",
       " 2.7599365045465301,\n",
       " 3.2184829842759335,\n",
       " 4.1355759437347395,\n",
       " 4.1355759437347395,\n",
       " 3.6770294640053365,\n",
       " 4.5941224234641425,\n",
       " 4.5941224234641425,\n",
       " 4.5941224234641425,\n",
       " 4.1355759437347395,\n",
       " 3.2184829842759335,\n",
       " 4.1355759437347395,\n",
       " 3.2184829842759335,\n",
       " 4.5941224234641425,\n",
       " 4.1355759437347395,\n",
       " 2.7599365045465301,\n",
       " 1.8428435450877234,\n",
       " 3.6770294640053365,\n",
       " 3.6770294640053365,\n",
       " 4.5941224234641425,\n",
       " 3.6770294640053365,\n",
       " 3.2184829842759335,\n",
       " 4.1355759437347395,\n",
       " 2.7599365045465301,\n",
       " 3.2184829842759335,\n",
       " 4.1355759437347395,\n",
       " 4.1355759437347395,\n",
       " 4.1355759437347395,\n",
       " 3.6770294640053365,\n",
       " 4.1355759437347395,\n",
       " 3.6770294640053365,\n",
       " 4.1355759437347395,\n",
       " 4.1355759437347395,\n",
       " 4.5941224234641425,\n",
       " 4.1355759437347395,\n",
       " 3.6770294640053365,\n",
       " 4.5941224234641425,\n",
       " 4.5941224234641425,\n",
       " 1.8428435450877234,\n",
       " 4.1355759437347395,\n",
       " 3.2184829842759335,\n",
       " 3.2184829842759335,\n",
       " 3.6770294640053365,\n",
       " 4.1355759437347395,\n",
       " 4.1355759437347395,\n",
       " 4.1355759437347395,\n",
       " 4.1355759437347395,\n",
       " 4.5941224234641425,\n",
       " 4.1355759437347395,\n",
       " 4.5941224234641425,\n",
       " 4.1355759437347395,\n",
       " 4.5941224234641425,\n",
       " 2.7599365045465301,\n",
       " 4.5941224234641425,\n",
       " 4.1355759437347395,\n",
       " 4.1355759437347395,\n",
       " 4.1355759437347395,\n",
       " 3.2184829842759335,\n",
       " 3.6770294640053365,\n",
       " 2.7599365045465301,\n",
       " 3.6770294640053365,\n",
       " 3.6770294640053365,\n",
       " 4.1355759437347395,\n",
       " 4.5941224234641425,\n",
       " 2.7599365045465301,\n",
       " 4.5941224234641425,\n",
       " 3.6770294640053365,\n",
       " 2.7599365045465301,\n",
       " 4.1355759437347395,\n",
       " 2.7599365045465301,\n",
       " 4.1355759437347395,\n",
       " 3.2184829842759335,\n",
       " 2.3013900248171266,\n",
       " 3.2184829842759335,\n",
       " 4.1355759437347395,\n",
       " 4.1355759437347395,\n",
       " 4.1355759437347395,\n",
       " 4.1355759437347395,\n",
       " 4.1355759437347395,\n",
       " 3.6770294640053365,\n",
       " 4.1355759437347395,\n",
       " 4.1355759437347395,\n",
       " 3.6770294640053365,\n",
       " 4.1355759437347395,\n",
       " 4.1355759437347395,\n",
       " 4.1355759437347395,\n",
       " 4.1355759437347395,\n",
       " 4.1355759437347395,\n",
       " 2.7599365045465301,\n",
       " 4.5941224234641425,\n",
       " 4.5941224234641425,\n",
       " 4.1355759437347395,\n",
       " 3.2184829842759335,\n",
       " 4.1355759437347395,\n",
       " 4.1355759437347395,\n",
       " 3.6770294640053365,\n",
       " 4.1355759437347395,\n",
       " 4.1355759437347395,\n",
       " 4.5941224234641425,\n",
       " 3.6770294640053365,\n",
       " 4.5941224234641425,\n",
       " 3.2184829842759335,\n",
       " 4.5941224234641425,\n",
       " 4.1355759437347395,\n",
       " 3.6770294640053365,\n",
       " 3.6770294640053365,\n",
       " 3.6770294640053365,\n",
       " 3.2184829842759335,\n",
       " 3.6770294640053365,\n",
       " 3.6770294640053365,\n",
       " 3.6770294640053365,\n",
       " 3.6770294640053365,\n",
       " 3.6770294640053365,\n",
       " 2.7599365045465301,\n",
       " 4.1355759437347395,\n",
       " 3.6770294640053365,\n",
       " 3.6770294640053365,\n",
       " 2.7599365045465301,\n",
       " 4.5941224234641425,\n",
       " 1.8428435450877234,\n",
       " 4.1355759437347395,\n",
       " 2.7599365045465301]"
      ]
     },
     "execution_count": 17,
     "metadata": {},
     "output_type": "execute_result"
    }
   ],
   "source": [
    "list(model.predict(X_test))"
   ]
  },
  {
   "cell_type": "code",
   "execution_count": 18,
   "metadata": {
    "collapsed": false,
    "deletable": true,
    "editable": true
   },
   "outputs": [],
   "source": [
    "import cPickle\n",
    "#Save classifier\n",
    "with open(\"classifier.pkl\", \"wb\") as fid:\n",
    "    cPickle.dump(model, fid)"
   ]
  },
  {
   "cell_type": "code",
   "execution_count": 19,
   "metadata": {
    "collapsed": true,
    "deletable": true,
    "editable": true
   },
   "outputs": [],
   "source": [
    "with open(\"classifier.pkl\", \"rb\") as fid:\n",
    "    regr_loaded = cPickle.load(fid)"
   ]
  },
  {
   "cell_type": "code",
   "execution_count": null,
   "metadata": {
    "collapsed": true,
    "deletable": true,
    "editable": true
   },
   "outputs": [],
   "source": []
  }
 ],
 "metadata": {
  "kernelspec": {
   "display_name": "Python 2",
   "language": "python",
   "name": "python2"
  },
  "language_info": {
   "codemirror_mode": {
    "name": "ipython",
    "version": 2
   },
   "file_extension": ".py",
   "mimetype": "text/x-python",
   "name": "python",
   "nbconvert_exporter": "python",
   "pygments_lexer": "ipython2",
   "version": "2.7.12"
  }
 },
 "nbformat": 4,
 "nbformat_minor": 2
}
